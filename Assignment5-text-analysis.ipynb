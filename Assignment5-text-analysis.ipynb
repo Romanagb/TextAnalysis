{
 "cells": [
  {
   "cell_type": "markdown",
   "metadata": {},
   "source": [
    "# Assignment 5 - Text Analysis\n",
    "An explanation this assignment could be found in the .pdf explanation document"
   ]
  },
  {
   "cell_type": "markdown",
   "metadata": {},
   "source": [
    "\n",
    "## Materials to review for this assignment\n",
    "<h4>From Moodle:</h4> \n",
    "<h5><u>Review the notebooks regarding the following python topics</u>:</h5>\n",
    "<div class=\"alert alert-info\">\n",
    "&#x2714; <b>Working with strings</b> (tutorial notebook)<br/>\n",
    "&#x2714; <b>Text Analysis</b> (tutorial notebook)<br/>\n",
    "&#x2714; <b>Hebrew text analysis tools (tokenizer, wordnet)</b> (moodle example)<br/>\n",
    "&#x2714; <b>(brief review) All previous notebooks</b><br/>\n",
    "</div> \n",
    "<h5><u>Review the presentations regarding the following topics</u>:</h5>\n",
    "<div class=\"alert alert-info\">\n",
    "&#x2714; <b>Text Analysis</b> (lecture presentation)<br/>\n",
    "&#x2714; <b>(brief review) All other presentations</b><br/>\n",
    "</div>"
   ]
  },
  {
   "cell_type": "markdown",
   "metadata": {},
   "source": [
    "## Preceding Step - import modules (packages)\n",
    "This step is necessary in order to use external modules (packages). <br/>"
   ]
  },
  {
   "cell_type": "code",
   "execution_count": 3,
   "metadata": {},
   "outputs": [],
   "source": [
    "# --------------------------------------\n",
    "import pandas as pd\n",
    "import numpy as np\n",
    "# --------------------------------------\n",
    "\n",
    "\n",
    "# --------------------------------------\n",
    "# ------------- visualizations:\n",
    "import seaborn as sns\n",
    "import matplotlib.pyplot as plt\n",
    "from matplotlib.colors import ListedColormap\n",
    "# --------------------------------------\n",
    "\n",
    "\n",
    "# ---------------------------------------\n",
    "import sklearn\n",
    "from sklearn import preprocessing, metrics, pipeline, model_selection, feature_extraction \n",
    "from sklearn import naive_bayes, linear_model, svm, neural_network, neighbors, tree\n",
    "from sklearn import decomposition, cluster\n",
    "\n",
    "from sklearn.model_selection import train_test_split, cross_val_score, GridSearchCV \n",
    "from sklearn.pipeline import Pipeline\n",
    "from sklearn.metrics import accuracy_score, confusion_matrix\n",
    "from sklearn.metrics import precision_score, recall_score, f1_score\n",
    "from sklearn.metrics import mean_squared_error, r2_score, silhouette_score\n",
    "from sklearn.preprocessing import MinMaxScaler, StandardScaler, LabelEncoder\n",
    "\n",
    "from sklearn.svm import LinearSVC\n",
    "from sklearn.neural_network import MLPClassifier\n",
    "from sklearn.linear_model import Perceptron, SGDClassifier\n",
    "from sklearn.decomposition import PCA\n",
    "from sklearn.cluster import KMeans\n",
    "from sklearn.naive_bayes import MultinomialNB, GaussianNB\n",
    "from sklearn.neighbors import KNeighborsClassifier\n",
    "from sklearn.tree import DecisionTreeClassifier\n",
    "# ---------------------------------------\n",
    "from sklearn.feature_selection import SelectKBest, chi2 ,mutual_info_classif\n",
    "from sklearn.svm import SVC \n",
    "from numpy import mean ,std\n",
    "from sklearn.model_selection import  cross_validate ,RepeatedKFold , RepeatedStratifiedKFold\n",
    "from sklearn.linear_model import LogisticRegression\n",
    "from matplotlib import pyplot\n",
    "from sklearn.ensemble import StackingClassifier, BaggingClassifier\n",
    "\n",
    "# ----------------- output and visualizations: \n",
    "import warnings\n",
    "from sklearn.exceptions import ConvergenceWarning\n",
    "warnings.simplefilter(\"ignore\")\n",
    "warnings.simplefilter(action='ignore', category=FutureWarning)\n",
    "warnings.simplefilter(\"ignore\", category=ConvergenceWarning)\n",
    "# show several prints in one cell. This will allow us to condence every trick in one cell.\n",
    "from IPython.core.interactiveshell import InteractiveShell\n",
    "InteractiveShell.ast_node_interactivity = \"all\"\n",
    "%matplotlib inline\n",
    "pd.pandas.set_option('display.max_columns', None)\n",
    "pd.set_option('display.float_format', lambda x: '%.3f' % x)\n",
    "# ---------------------------------------"
   ]
  },
  {
   "cell_type": "markdown",
   "metadata": {},
   "source": [
    "### Text analysis and String manipulation imports:"
   ]
  },
  {
   "cell_type": "code",
   "execution_count": 4,
   "metadata": {},
   "outputs": [],
   "source": [
    "# --------------------------------------\n",
    "# --------- Text analysis and Hebrew text analysis imports:\n",
    "# vectorizers:\n",
    "from sklearn.feature_extraction import text\n",
    "from sklearn.feature_extraction.text import CountVectorizer, TfidfVectorizer\n",
    "\n",
    "# regular expressions:\n",
    "import re\n",
    "# --------------------------------------"
   ]
  },
  {
   "cell_type": "markdown",
   "metadata": {},
   "source": [
    "### (optional) Hebrew text analysis - WordNet (for Hebrew)\n",
    "Note: the WordNet is not a must"
   ]
  },
  {
   "cell_type": "markdown",
   "metadata": {},
   "source": [
    "#### (optional) Only if you didn't install Wordnet (for Hebrew) use:"
   ]
  },
  {
   "cell_type": "code",
   "execution_count": null,
   "metadata": {},
   "outputs": [],
   "source": [
    "# word net installation:\n",
    "\n",
    "# unmark if you want to use and need to install\n",
    "# !pip install wn\n",
    "# !python -m wn download omw-he:1.4"
   ]
  },
  {
   "cell_type": "code",
   "execution_count": null,
   "metadata": {},
   "outputs": [],
   "source": [
    "# word net import:\n",
    "\n",
    "# unmark if you want to use:\n",
    "# import wn"
   ]
  },
  {
   "cell_type": "markdown",
   "metadata": {},
   "source": [
    "### (optional) Hebrew text analysis - hebrew_tokenizer (Tokenizer for Hebrew)\n",
    "Note: the hebrew_tokenizer is not a must"
   ]
  },
  {
   "cell_type": "markdown",
   "metadata": {},
   "source": [
    "#### (optional) Only if you didn't install hebrew_tokenizer use:"
   ]
  },
  {
   "cell_type": "code",
   "execution_count": 12,
   "metadata": {},
   "outputs": [],
   "source": [
    "# Hebrew tokenizer installation:\n",
    "\n",
    "# unmark if you want to use and need to install:\n",
    "# !pip install hebrew_tokenizer"
   ]
  },
  {
   "cell_type": "code",
   "execution_count": 5,
   "metadata": {},
   "outputs": [
    {
     "name": "stdout",
     "output_type": "stream",
     "text": [
      "C:\\Users\\Roman\\Desktop\\למידת מכונה\\5\n"
     ]
    }
   ],
   "source": [
    "# Hebrew tokenizer import:\n",
    "\n",
    "# unmark if you want to use:\n",
    "import hebrew_tokenizer as ht"
   ]
  },
  {
   "cell_type": "markdown",
   "metadata": {},
   "source": [
    "### Reading input files\n",
    "Reading input files for train annotated corpus (raw text data) corpus and for the test corpus"
   ]
  },
  {
   "cell_type": "code",
   "execution_count": 6,
   "metadata": {},
   "outputs": [],
   "source": [
    "train_filename = 'annotated_corpus_for_train.csv'\n",
    "test_filename  = 'corpus_for_test.csv'\n",
    "df_train = pd.read_csv(train_filename, index_col=None, encoding='utf-8')\n",
    "df_test  = pd.read_csv(test_filename, index_col=None, encoding='utf-8')"
   ]
  },
  {
   "cell_type": "code",
   "execution_count": 7,
   "metadata": {},
   "outputs": [
    {
     "data": {
      "text/html": [
       "<div>\n",
       "<style scoped>\n",
       "    .dataframe tbody tr th:only-of-type {\n",
       "        vertical-align: middle;\n",
       "    }\n",
       "\n",
       "    .dataframe tbody tr th {\n",
       "        vertical-align: top;\n",
       "    }\n",
       "\n",
       "    .dataframe thead th {\n",
       "        text-align: right;\n",
       "    }\n",
       "</style>\n",
       "<table border=\"1\" class=\"dataframe\">\n",
       "  <thead>\n",
       "    <tr style=\"text-align: right;\">\n",
       "      <th></th>\n",
       "      <th>story</th>\n",
       "      <th>gender</th>\n",
       "    </tr>\n",
       "  </thead>\n",
       "  <tbody>\n",
       "    <tr>\n",
       "      <th>0</th>\n",
       "      <td>כשחבר הזמין אותי לחול, לא באמת חשבתי שזה יקרה,...</td>\n",
       "      <td>m</td>\n",
       "    </tr>\n",
       "    <tr>\n",
       "      <th>1</th>\n",
       "      <td>לפני שהתגייסתי לצבא עשיתי כל מני מיונים ליחידו...</td>\n",
       "      <td>m</td>\n",
       "    </tr>\n",
       "    <tr>\n",
       "      <th>2</th>\n",
       "      <td>מאז שהתחילו הלימודים חלומו של כל סטודנט זה הפנ...</td>\n",
       "      <td>f</td>\n",
       "    </tr>\n",
       "    <tr>\n",
       "      <th>3</th>\n",
       "      <td>כשהייתי ילד, מטוסים היה הדבר שהכי ריתק אותי. ב...</td>\n",
       "      <td>m</td>\n",
       "    </tr>\n",
       "    <tr>\n",
       "      <th>4</th>\n",
       "      <td>‏הייתי מדריכה בכפר נוער ומתאם הכפר היינו צריכי...</td>\n",
       "      <td>f</td>\n",
       "    </tr>\n",
       "    <tr>\n",
       "      <th>5</th>\n",
       "      <td>לפני כ3 חודשים טסתי לרומא למשך שבוע. טסתי במטו...</td>\n",
       "      <td>f</td>\n",
       "    </tr>\n",
       "    <tr>\n",
       "      <th>6</th>\n",
       "      <td>אני כבר שנתיים נשוי והשנה אני ואישתי סוף סוף י...</td>\n",
       "      <td>m</td>\n",
       "    </tr>\n",
       "    <tr>\n",
       "      <th>7</th>\n",
       "      <td>השנה התחלנו שיפוץ בדירה שלנו בתל אביב. הדירה ה...</td>\n",
       "      <td>f</td>\n",
       "    </tr>\n",
       "  </tbody>\n",
       "</table>\n",
       "</div>"
      ],
      "text/plain": [
       "                                               story gender\n",
       "0  כשחבר הזמין אותי לחול, לא באמת חשבתי שזה יקרה,...      m\n",
       "1  לפני שהתגייסתי לצבא עשיתי כל מני מיונים ליחידו...      m\n",
       "2  מאז שהתחילו הלימודים חלומו של כל סטודנט זה הפנ...      f\n",
       "3  כשהייתי ילד, מטוסים היה הדבר שהכי ריתק אותי. ב...      m\n",
       "4  ‏הייתי מדריכה בכפר נוער ומתאם הכפר היינו צריכי...      f\n",
       "5  לפני כ3 חודשים טסתי לרומא למשך שבוע. טסתי במטו...      f\n",
       "6  אני כבר שנתיים נשוי והשנה אני ואישתי סוף סוף י...      m\n",
       "7  השנה התחלנו שיפוץ בדירה שלנו בתל אביב. הדירה ה...      f"
      ]
     },
     "execution_count": 7,
     "metadata": {},
     "output_type": "execute_result"
    },
    {
     "data": {
      "text/plain": [
       "(753, 2)"
      ]
     },
     "execution_count": 7,
     "metadata": {},
     "output_type": "execute_result"
    }
   ],
   "source": [
    "df_train.head(8)\n",
    "df_train.shape"
   ]
  },
  {
   "cell_type": "code",
   "execution_count": 8,
   "metadata": {},
   "outputs": [
    {
     "data": {
      "text/html": [
       "<div>\n",
       "<style scoped>\n",
       "    .dataframe tbody tr th:only-of-type {\n",
       "        vertical-align: middle;\n",
       "    }\n",
       "\n",
       "    .dataframe tbody tr th {\n",
       "        vertical-align: top;\n",
       "    }\n",
       "\n",
       "    .dataframe thead th {\n",
       "        text-align: right;\n",
       "    }\n",
       "</style>\n",
       "<table border=\"1\" class=\"dataframe\">\n",
       "  <thead>\n",
       "    <tr style=\"text-align: right;\">\n",
       "      <th></th>\n",
       "      <th>test_example_id</th>\n",
       "      <th>story</th>\n",
       "    </tr>\n",
       "  </thead>\n",
       "  <tbody>\n",
       "    <tr>\n",
       "      <th>0</th>\n",
       "      <td>0</td>\n",
       "      <td>כל קיץ אני והמשפחה נוסעים לארצות הברית לוס אנג...</td>\n",
       "    </tr>\n",
       "    <tr>\n",
       "      <th>1</th>\n",
       "      <td>1</td>\n",
       "      <td>הגעתי לשירות המדינה אחרי שנתיים כפעיל בתנועת \"...</td>\n",
       "    </tr>\n",
       "    <tr>\n",
       "      <th>2</th>\n",
       "      <td>2</td>\n",
       "      <td>אחת האהבות הגדולות שלי אלו הכלבים שלי ושל אישת...</td>\n",
       "    </tr>\n",
       "  </tbody>\n",
       "</table>\n",
       "</div>"
      ],
      "text/plain": [
       "   test_example_id                                              story\n",
       "0                0  כל קיץ אני והמשפחה נוסעים לארצות הברית לוס אנג...\n",
       "1                1  הגעתי לשירות המדינה אחרי שנתיים כפעיל בתנועת \"...\n",
       "2                2  אחת האהבות הגדולות שלי אלו הכלבים שלי ושל אישת..."
      ]
     },
     "execution_count": 8,
     "metadata": {},
     "output_type": "execute_result"
    },
    {
     "data": {
      "text/plain": [
       "(323, 2)"
      ]
     },
     "execution_count": 8,
     "metadata": {},
     "output_type": "execute_result"
    }
   ],
   "source": [
    "df_test.head(3)\n",
    "df_test.shape"
   ]
  },
  {
   "cell_type": "markdown",
   "metadata": {},
   "source": [
    "### Your implementation:\n",
    "Write your code solution in the following code-cells"
   ]
  },
  {
   "cell_type": "code",
   "execution_count": 9,
   "metadata": {},
   "outputs": [],
   "source": [
    "#Preprocessing stage\n",
    "#Preprocess a story by removing punctuation, symbols, numbers and whitespaces\n",
    "def preprocess_story(story):\n",
    "    story = re.sub(r'[^\\w\\s]', '', story)\n",
    "    story = re.sub(r'\\d+', '', story)\n",
    "    story = re.sub(r'\\s+', ' ', story).strip()    \n",
    "    return story\n",
    "\n",
    "#Preprocess the data, either for training, or testing\n",
    "def preprocess_df(vectorizer = 'TfidfVectorizer' , ngram_range = (1,1) ,min_df = 5 , k =1000 , test = False ):\n",
    "    if test: #If we use the test corpus, otherwise use the train corpus\n",
    "        df = pd.read_csv('corpus_for_test.csv', index_col=None, encoding='utf-8') #Load data\n",
    "        df['story'] = df['story'].apply(preprocess_story) #Preprocess data\n",
    "        vectorizer = TfidfVectorizer(min_df=min_df, ngram_range=ngram_range) #Vectorize data\n",
    "        X_test = df['story']\n",
    "        X_test_vect = vectorizer.fit_transform(X_test)\n",
    "        selector = SelectKBest(mutual_info_classif, k=k) #Feature selection using mutual information\n",
    "        X_test_selected = selector.fit_transform(X_test_vect, np.zeros(X_test_vect.shape[0]))\n",
    "        scaler = MinMaxScaler()\n",
    "        X_test_scaled = scaler.fit_transform(X_test_selected.toarray())\n",
    "        \n",
    "        return df['story'], X_test_scaled\n",
    "    \n",
    "    df = pd.read_csv('annotated_corpus_for_train.csv', index_col=None, encoding='utf-8') #Load data\n",
    "    df['story'] = df['story'].apply(preprocess_story) #Preprocess data\n",
    "    X_train, X_test, y_train, y_test = train_test_split(df['story'], df['gender'], test_size=0.2, random_state=42) #Split data\n",
    "    if vectorizer == 'TfidfVectorizer': #Vectorize using tf-idf\n",
    "        vectorizer = TfidfVectorizer(min_df= min_df ,ngram_range= ngram_range)\n",
    "    if vectorizer == 'CountVectorizer': #Vectorize using count vectorizer\n",
    "        vectorizer = CountVectorizer(min_df= min_df)\n",
    "    X_train_vect = vectorizer.fit_transform(X_train)\n",
    "    X_test_vect = vectorizer.transform(X_test)\n",
    "    selector = SelectKBest(mutual_info_classif, k=k) #Feature selection using mutual information\n",
    "    selector.fit(X_train_vect, y_train)\n",
    "    X_train_selected = selector.transform(X_train_vect)\n",
    "    X_test_selected = selector.transform(X_test_vect)\n",
    "    scaler = MinMaxScaler()\n",
    "    X_train_scaled = scaler.fit_transform(X_train_selected.toarray())\n",
    "    X_test_scaled = scaler.transform(X_test_selected.toarray())\n",
    "    \n",
    "    return X_train_scaled , X_test_scaled , X_train, X_test, y_train, y_test"
   ]
  },
  {
   "cell_type": "code",
   "execution_count": 13,
   "metadata": {},
   "outputs": [],
   "source": [
    "#Model selection, defining our models and ensemble\n",
    "#Creating our ensemble\n",
    "def get_stacking(params):\n",
    "    # Assuming it is better to use bagging, based on internet scrolling and stackoverflow\n",
    "    level0 = []\n",
    "    level0.append(('LinearSVC_bagging', BaggingClassifier(base_estimator=LinearSVC(**params['LinearSVC']), n_estimators=100, max_samples=0.8, oob_score=False)))\n",
    "    level0.append(('MLPClassifier', MLPClassifier(**params['MLPClassifier'])))\n",
    "    level0.append(('Perceptron', Perceptron(**params['Perceptron'])))\n",
    "    level0.append(('SGDClassifier_bagging', BaggingClassifier(base_estimator=SGDClassifier(**params['SGDClassifier']), n_estimators=100, max_samples=0.8, oob_score=False)))\n",
    "    level0.append(('KNN_bagging', BaggingClassifier(base_estimator=KNeighborsClassifier(**params['KNN']), n_estimators=100, max_samples=0.8, oob_score=False)))\n",
    "    level0.append(('CART_bagging', BaggingClassifier(base_estimator=DecisionTreeClassifier(**params['CART']), n_estimators=100, max_samples=0.8, oob_score=False)))\n",
    "    level0.append(('SVM_bagging', BaggingClassifier(base_estimator=SVC(**params['SVM']), n_estimators=100, max_samples=0.8, oob_score=False)))\n",
    "    level0.append(('LogisticRegression_bagging', BaggingClassifier(base_estimator=LogisticRegression(**params['LogisticRegression']), n_estimators=100, max_samples=0.8, oob_score=False)))\n",
    "    level1 = LogisticRegression(**params['LogisticRegression'])\n",
    "    model = StackingClassifier(estimators=level0, final_estimator=level1, cv=5)\n",
    "    return model \n",
    "\n",
    "#Base models and ensemble classifiers dict\n",
    "def get_models(params):\n",
    "    models = dict()\n",
    "    models['LinearSVC'] = LinearSVC(**params['LinearSVC'])\n",
    "    models['MLPClassifier'] = MLPClassifier(**params['MLPClassifier'])\n",
    "    models['Perceptron'] = Perceptron(**params['Perceptron'])\n",
    "    models['SGDClassifier'] = SGDClassifier(**params['SGDClassifier'])\n",
    "    models['KNN'] = KNeighborsClassifier(**params['KNN'])\n",
    "    models['CART'] = DecisionTreeClassifier(**params['CART'])\n",
    "    models['SVM'] = SVC(**params['SVM'])\n",
    "    models['LogisticRegression'] = LogisticRegression(**params['LogisticRegression']) \n",
    "    models['Stacking'] = get_stacking(params)\n",
    "    return models"
   ]
  },
  {
   "cell_type": "code",
   "execution_count": 14,
   "metadata": {},
   "outputs": [
    {
     "name": "stdout",
     "output_type": "stream",
     "text": [
      ">LinearSVC Accuracy: 0.771 (0.094)\n",
      "F1 Score (female): 0.478\n",
      "F1 Score (male): 0.851\n",
      "F1 Score **(average_f1)**: 0.664\n",
      "\n",
      "\n",
      "\n",
      ">MLPClassifier Accuracy: 0.746 (0.089)\n",
      "F1 Score (female): 0.464\n",
      "F1 Score (male): 0.878\n",
      "F1 Score **(average_f1)**: 0.671\n",
      "\n",
      "\n",
      "\n",
      ">Perceptron Accuracy: 0.771 (0.109)\n",
      "F1 Score (female): 0.629\n",
      "F1 Score (male): 0.888\n",
      "F1 Score **(average_f1)**: 0.758\n",
      "\n",
      "\n",
      "\n",
      ">SGDClassifier Accuracy: 0.768 (0.091)\n",
      "F1 Score (female): 0.453\n",
      "F1 Score (male): 0.884\n",
      "F1 Score **(average_f1)**: 0.668\n",
      "\n",
      "\n",
      "\n",
      ">KNN Accuracy: 0.753 (0.091)\n",
      "F1 Score (female): 0.000\n",
      "F1 Score (male): 0.860\n",
      "F1 Score **(average_f1)**: 0.430\n",
      "\n",
      "\n",
      "\n",
      ">CART Accuracy: 0.693 (0.093)\n",
      "F1 Score (female): 0.423\n",
      "F1 Score (male): 0.880\n",
      "F1 Score **(average_f1)**: 0.652\n",
      "\n",
      "\n",
      "\n",
      ">SVM Accuracy: 0.766 (0.097)\n",
      "F1 Score (female): 0.456\n",
      "F1 Score (male): 0.873\n",
      "F1 Score **(average_f1)**: 0.665\n",
      "\n",
      "\n",
      "\n",
      ">LogisticRegression Accuracy: 0.759 (0.094)\n",
      "F1 Score (female): 0.444\n",
      "F1 Score (male): 0.879\n",
      "F1 Score **(average_f1)**: 0.662\n",
      "\n",
      "\n",
      "\n",
      ">Stacking Accuracy: 0.751 (0.090)\n",
      "F1 Score (female): 0.533\n",
      "F1 Score (male): 0.884\n",
      "F1 Score **(average_f1)**: 0.709\n",
      "\n",
      "\n",
      "\n"
     ]
    }
   ],
   "source": [
    "#Model training and evaluation stage\n",
    "#Train and evaluate our models\n",
    "def eval_model(model,X_train_selected, X_test_selected  ,y_train, y_test):\n",
    "    model_train = model.fit(X_train_selected , y_train) #Train\n",
    "    cv = RepeatedKFold(n_splits=5, n_repeats=3, random_state=42)\n",
    "    scores = cross_val_score(model_train, X_test_selected, y_test, scoring='accuracy', cv=cv, n_jobs=-1  )\n",
    "    y_pred = model_train.predict(X_test_selected)\n",
    "    f1_male = f1_score(y_test, y_pred, pos_label='m')\n",
    "    f1_female = f1_score(y_test, y_pred, pos_label='f')\n",
    "    average_f1=(f1_male + f1_female)/2\n",
    "    conf_mat = confusion_matrix(y_test, y_pred)\n",
    "\n",
    "    return {'Accuracy': {'mean': mean(scores),'std': std(scores)},\n",
    "            'F1 Score (male)': f1_male,\n",
    "            'F1 Score (female)': f1_female,\n",
    "            'Confusion Matrix': conf_mat,\n",
    "            'scores':scores ,\n",
    "            'y_pred':y_pred,\n",
    "            'average_f1':average_f1,\n",
    "            'model':model_train}\n",
    "\n",
    "#Parameter tuning\n",
    "def find_best_params(models , X_train_selected ,y_train ):\n",
    "    best_params = {}\n",
    "    for name, model in models.items():\n",
    "        clf = GridSearchCV(model, base_params[name], cv=5, n_jobs=-1)\n",
    "        clf.fit(X_train_selected, y_train)\n",
    "        best_params[name] = clf.best_params_\n",
    "        \n",
    "    return best_params\n",
    "\n",
    "#Let's put it to use\n",
    "base_params = {'LinearSVC': {'C': [0.01, 0.1, 1, 10, 100], 'penalty': ['l1', 'l2'], 'dual': [False]},\n",
    "               'MLPClassifier': {'hidden_layer_sizes': [(50,50,50), (50,100,50), (100,)],\n",
    "                                 'activation': ['tanh', 'relu'], 'solver': ['sgd', 'adam'], 'alpha': [0.0001, 0.05], 'learning_rate': ['constant','adaptive']},\n",
    "               'Perceptron': {'alpha': [0.0001, 0.05], 'penalty': [None, 'l2', 'l1', 'elasticnet']},\n",
    "               'SGDClassifier': {'loss': ['hinge', 'log', 'modified_huber', 'squared_hinge', 'perceptron'], 'penalty': ['l2', 'l1', 'elasticnet'], 'alpha': [0.0001, 0.05]},\n",
    "               'KNN': {'n_neighbors': [3, 5, 7], 'weights': ['uniform', 'distance']},\n",
    "               'CART': {'max_depth': [3, 5, 7], 'criterion': ['gini', 'entropy']},\n",
    "               'SVM': {'C': [0.01, 0.1, 1, 10, 100], 'kernel': ['linear', 'rbf']},\n",
    "               'LogisticRegression': {'C': [0.01, 0.1, 1, 10, 100], 'penalty': ['l1', 'l2']}}\n",
    "          \n",
    "models_list = {'LinearSVC':LinearSVC(),\n",
    "               'MLPClassifier':MLPClassifier(),\n",
    "               'Perceptron':Perceptron(),\n",
    "               'SGDClassifier':SGDClassifier(),\n",
    "               'KNN': KNeighborsClassifier(),\n",
    "               'CART': DecisionTreeClassifier(),\n",
    "               'SVM': SVC(),\n",
    "               'LogisticRegression': LogisticRegression()}\n",
    "\n",
    "X_train_selected , X_test_selected , X_train, X_test, y_train, y_test = preprocess_df(ngram_range = (1,1))\n",
    "best_params = find_best_params(models_list , X_train_selected ,y_train )\n",
    "models = get_models(best_params)\n",
    "conf_mats = []\n",
    "results, names = list(), list()\n",
    "y_pred = []\n",
    "score = {}\n",
    "for name, model in models.items():\n",
    "    scores = eval_model(model, X_train_selected, X_test_selected, y_train, y_test)\n",
    "    results.append(scores['scores'])\n",
    "    names.append(name)\n",
    "    score[name] = scores\n",
    "    y_pred.append(scores['y_pred'])\n",
    "    print('>%s Accuracy: %.3f (%.3f)' % (name, scores['Accuracy']['mean'], scores['Accuracy']['std']))\n",
    "    print('F1 Score (female): %.3f' % (scores['F1 Score (female)']))\n",
    "    print('F1 Score (male): %.3f' % (scores['F1 Score (male)']))\n",
    "    print('F1 Score **(average_f1)**: %.3f\\n\\n\\n' % (scores['average_f1']))\n"
   ]
  },
  {
   "cell_type": "code",
   "execution_count": 31,
   "metadata": {},
   "outputs": [
    {
     "data": {
      "image/png": "[encoded data removed]",
      "text/plain": [
       "<Figure size 400x200 with 1 Axes>"
      ]
     },
     "metadata": {},
     "output_type": "display_data"
    },
    {
     "data": {
      "image/png": "[encoded data removed]",
      "text/plain": [
       "<Figure size 400x200 with 1 Axes>"
      ]
     },
     "metadata": {},
     "output_type": "display_data"
    },
    {
     "data": {
      "image/png": "[encoded data removed]",
      "text/plain": [
       "<Figure size 400x200 with 1 Axes>"
      ]
     },
     "metadata": {},
     "output_type": "display_data"
    },
    {
     "data": {
      "image/png": "[encoded data removed]",
      "text/plain": [
       "<Figure size 400x200 with 1 Axes>"
      ]
     },
     "metadata": {},
     "output_type": "display_data"
    },
    {
     "data": {
      "image/png": "[encoded data removed]",
      "text/plain": [
       "<Figure size 400x200 with 1 Axes>"
      ]
     },
     "metadata": {},
     "output_type": "display_data"
    },
    {
     "data": {
      "image/png": "[encoded data removed]",
      "text/plain": [
       "<Figure size 400x200 with 1 Axes>"
      ]
     },
     "metadata": {},
     "output_type": "display_data"
    },
    {
     "data": {
      "image/png": "[encoded data removed]",
      "text/plain": [
       "<Figure size 400x200 with 1 Axes>"
      ]
     },
     "metadata": {},
     "output_type": "display_data"
    },
    {
     "data": {
      "image/png": "[encoded data removed]",
      "text/plain": [
       "<Figure size 400x200 with 1 Axes>"
      ]
     },
     "metadata": {},
     "output_type": "display_data"
    },
    {
     "data": {
      "image/png": "[encoded data removed]",
      "text/plain": [
       "<Figure size 400x200 with 1 Axes>"
      ]
     },
     "metadata": {},
     "output_type": "display_data"
    }
   ],
   "source": [
    "#Evaluation using confusion matrix\n",
    "def plot_matrix(score):\n",
    "    for mod in score:\n",
    "        fig, ax = plt.subplots(figsize=(4, 2))\n",
    "        sns.heatmap(score[mod]['Confusion Matrix'], annot=True, fmt='g', cmap='Reds', cbar=False,\n",
    "                    annot_kws={'fontsize': 10}, ax=ax)\n",
    "        ax.set_ylabel('Actual label', fontsize=12)\n",
    "        ax.set_xticklabels(['f', 'm'], fontsize=10)\n",
    "        ax.set_yticklabels(['f', 'm'], fontsize=10)\n",
    "        ax.set_title(f\"Model: {mod}\\nAverage_f1 {score[mod]['average_f1']:.2f}\", fontsize=12)\n",
    "        plt.show()\n",
    "        \n",
    "plot_matrix(score)"
   ]
  },
  {
   "cell_type": "code",
   "execution_count": 33,
   "metadata": {},
   "outputs": [
    {
     "name": "stdout",
     "output_type": "stream",
     "text": [
      "Model LinearSVC\n",
      "m    187\n",
      "f    136\n",
      "Name: predicted gender, dtype: int64\n",
      "\n",
      "\n",
      "Model MLPClassifier\n",
      "m    202\n",
      "f    121\n",
      "Name: predicted gender, dtype: int64\n",
      "\n",
      "\n",
      "Model Perceptron\n",
      "m    187\n",
      "f    136\n",
      "Name: predicted gender, dtype: int64\n",
      "\n",
      "\n",
      "Model SGDClassifier\n",
      "m    301\n",
      "f     22\n",
      "Name: predicted gender, dtype: int64\n",
      "\n",
      "\n",
      "Model KNN\n",
      "m    323\n",
      "Name: predicted gender, dtype: int64\n",
      "\n",
      "\n",
      "Model CART\n",
      "m    286\n",
      "f     37\n",
      "Name: predicted gender, dtype: int64\n",
      "\n",
      "\n",
      "Model SVM\n",
      "m    291\n",
      "f     32\n",
      "Name: predicted gender, dtype: int64\n",
      "\n",
      "\n",
      "Model LogisticRegression\n",
      "m    275\n",
      "f     48\n",
      "Name: predicted gender, dtype: int64\n",
      "\n",
      "\n",
      "Model Stacking\n",
      "m    233\n",
      "f     90\n",
      "Name: predicted gender, dtype: int64\n",
      "\n",
      "\n",
      "\n",
      "Predictions for the first 5 rows:\n",
      "                                               story predicted gender\n",
      "0  כל קיץ אני והמשפחה נוסעים לארצות הברית לוס אנג...                m\n",
      "1  הגעתי לשירות המדינה אחרי שנתיים כפעיל בתנועת י...                m\n",
      "2  אחת האהבות הגדולות שלי אלו הכלבים שלי ושל אישת...                m\n",
      "3  רגע הגיוס לצבא היה הרגע הכי משמעותי עבורי אני ...                f\n",
      "4  אני הגעתי לברזיל ישר מקולומביה וגם אני עשיתי ע...                m\n",
      "\n",
      "Predictions for the last 5 rows:\n",
      "                                                 story predicted gender\n",
      "318  בשנה האחרונה הרגשתי די תקוע בעבודה השגרה הפכה ...                m\n",
      "319  אני ואילן חברים טובים מזה שנה תמיד חלמנו לפתח ...                f\n",
      "320  מידי יום שישי אני נוהג לנסוע בתחבורה ציבורית ס...                f\n",
      "321  לפני מספר חודשים בשיא התחלואה של הגל השני עמית...                m\n",
      "322  היום בו דיווחתי על גניבה של האוטו שלי בוקר אחד...                m\n"
     ]
    }
   ],
   "source": [
    "#Prediction using the test data\n",
    "data, test_data = preprocess_df(test =True)\n",
    "df_predict_dict = {}\n",
    "for mod in score:\n",
    "    y_pred = score[mod]['model'].predict(test_data)\n",
    "    df_predict = pd.DataFrame({'story': data, 'predicted gender': y_pred})\n",
    "    print(f\"Model {mod}\")\n",
    "    print(df_predict['predicted gender'].value_counts())\n",
    "    print(\"\\n\")\n",
    "    df_predict_dict[mod] = df_predict\n",
    "df_predicted = df_predict_dict['Stacking']\n",
    "\n",
    "#Predictions of first and last 5 rows as requested in the instructions\n",
    "print(\"\\nPredictions for the first 5 rows:\")\n",
    "print(df_predicted[:5])\n",
    "print(\"\\nPredictions for the last 5 rows:\")\n",
    "print(df_predicted[-5:])"
   ]
  },
  {
   "cell_type": "markdown",
   "metadata": {},
   "source": [
    "### Save output to csv (optional)\n",
    "After you're done save your output to the 'classification_results.csv' csv file.<br/>\n",
    "We assume that the dataframe with your results contain the following columns:\n",
    "* column 1 (left column): 'test_example_id'  - the same id associated to each of the test stories to be predicted.\n",
    "* column 2 (right column): 'predicted_category' - the predicted gender value for each of the associated story. \n",
    "\n",
    "Assuming your predicted values are in the `df_predicted` dataframe, you should save you're results as following:"
   ]
  },
  {
   "cell_type": "code",
   "execution_count": 34,
   "metadata": {},
   "outputs": [],
   "source": [
    "df_predicted.to_csv('classification_results.csv',index=False)"
   ]
  },
  {
   "cell_type": "code",
   "execution_count": null,
   "metadata": {},
   "outputs": [],
   "source": []
  }
 ],
 "metadata": {
  "celltoolbar": "Create Assignment",
  "kernelspec": {
   "display_name": "Python 3 (ipykernel)",
   "language": "python",
   "name": "python3"
  },
  "language_info": {
   "codemirror_mode": {
    "name": "ipython",
    "version": 3
   },
   "file_extension": ".py",
   "mimetype": "text/x-python",
   "name": "python",
   "nbconvert_exporter": "python",
   "pygments_lexer": "ipython3",
   "version": "3.9.13"
  }
 },
 "nbformat": 4,
 "nbformat_minor": 4
}
